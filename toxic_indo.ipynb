{
  "cells": [
    {
      "cell_type": "markdown",
      "metadata": {
        "id": "B6p1SWFodOgC"
      },
      "source": [
        "# 0. Install Dependencies and Bring in Data"
      ]
    },
    {
      "cell_type": "code",
      "execution_count": 2,
      "metadata": {
        "colab": {
          "base_uri": "https://localhost:8080/"
        },
        "collapsed": true,
        "id": "yukeIrsjdOgG",
        "jupyter": {
          "outputs_hidden": true
        },
        "outputId": "5005dbc3-586d-423e-a433-27b3bee75a33",
        "tags": []
      },
      "outputs": [
        {
          "name": "stdout",
          "output_type": "stream",
          "text": [
            "Requirement already satisfied: tensorflow in c:\\users\\m-si\\appdata\\roaming\\python\\python39\\site-packages (2.9.1)\n",
            "Requirement already satisfied: tensorflow-gpu in c:\\python\\python39\\lib\\site-packages (2.9.1)\n",
            "Requirement already satisfied: pandas in c:\\python\\python39\\lib\\site-packages (1.2.4)\n",
            "Requirement already satisfied: matplotlib in c:\\python\\python39\\lib\\site-packages (3.5.1)\n",
            "Requirement already satisfied: sklearn in c:\\python\\python39\\lib\\site-packages (0.0)\n",
            "Requirement already satisfied: tensorflow-io-gcs-filesystem>=0.23.1 in c:\\users\\m-si\\appdata\\roaming\\python\\python39\\site-packages (from tensorflow) (0.26.0)\n",
            "Requirement already satisfied: astunparse>=1.6.0 in c:\\users\\m-si\\appdata\\roaming\\python\\python39\\site-packages (from tensorflow) (1.6.3)\n",
            "Requirement already satisfied: h5py>=2.9.0 in c:\\python\\python39\\lib\\site-packages (from tensorflow) (3.7.0)\n",
            "Requirement already satisfied: termcolor>=1.1.0 in c:\\python\\python39\\lib\\site-packages (from tensorflow) (1.1.0)\n",
            "Requirement already satisfied: gast<=0.4.0,>=0.2.1 in c:\\users\\m-si\\appdata\\roaming\\python\\python39\\site-packages (from tensorflow) (0.4.0)\n",
            "Requirement already satisfied: libclang>=13.0.0 in c:\\users\\m-si\\appdata\\roaming\\python\\python39\\site-packages (from tensorflow) (14.0.1)\n",
            "Requirement already satisfied: flatbuffers<2,>=1.12 in c:\\users\\m-si\\appdata\\roaming\\python\\python39\\site-packages (from tensorflow) (1.12)\n",
            "Requirement already satisfied: tensorflow-estimator<2.10.0,>=2.9.0rc0 in c:\\users\\m-si\\appdata\\roaming\\python\\python39\\site-packages (from tensorflow) (2.9.0)\n",
            "Requirement already satisfied: opt-einsum>=2.3.2 in c:\\users\\m-si\\appdata\\roaming\\python\\python39\\site-packages (from tensorflow) (3.3.0)\n",
            "Requirement already satisfied: numpy>=1.20 in c:\\python\\python39\\lib\\site-packages (from tensorflow) (1.21.5)\n",
            "Requirement already satisfied: google-pasta>=0.1.1 in c:\\users\\m-si\\appdata\\roaming\\python\\python39\\site-packages (from tensorflow) (0.2.0)\n",
            "Requirement already satisfied: six>=1.12.0 in c:\\python\\python39\\lib\\site-packages (from tensorflow) (1.16.0)\n",
            "Requirement already satisfied: tensorboard<2.10,>=2.9 in c:\\users\\m-si\\appdata\\roaming\\python\\python39\\site-packages (from tensorflow) (2.9.1)\n",
            "Requirement already satisfied: keras-preprocessing>=1.1.1 in c:\\users\\m-si\\appdata\\roaming\\python\\python39\\site-packages (from tensorflow) (1.1.2)\n",
            "Requirement already satisfied: grpcio<2.0,>=1.24.3 in c:\\users\\m-si\\appdata\\roaming\\python\\python39\\site-packages (from tensorflow) (1.47.0)\n",
            "Requirement already satisfied: setuptools in c:\\python\\python39\\lib\\site-packages (from tensorflow) (49.2.1)\n",
            "Requirement already satisfied: packaging in c:\\python\\python39\\lib\\site-packages (from tensorflow) (21.0)\n",
            "Requirement already satisfied: typing-extensions>=3.6.6 in c:\\python\\python39\\lib\\site-packages (from tensorflow) (3.10.0.2)\n",
            "Requirement already satisfied: protobuf<3.20,>=3.9.2 in c:\\users\\m-si\\appdata\\roaming\\python\\python39\\site-packages (from tensorflow) (3.19.4)\n",
            "Requirement already satisfied: keras<2.10.0,>=2.9.0rc0 in c:\\users\\m-si\\appdata\\roaming\\python\\python39\\site-packages (from tensorflow) (2.9.0)\n",
            "Requirement already satisfied: wrapt>=1.11.0 in c:\\users\\m-si\\appdata\\roaming\\python\\python39\\site-packages (from tensorflow) (1.14.1)\n",
            "Requirement already satisfied: absl-py>=1.0.0 in c:\\users\\m-si\\appdata\\roaming\\python\\python39\\site-packages (from tensorflow) (1.1.0)\n",
            "Requirement already satisfied: pytz>=2017.3 in c:\\python\\python39\\lib\\site-packages (from pandas) (2021.3)\n",
            "Requirement already satisfied: python-dateutil>=2.7.3 in c:\\python\\python39\\lib\\site-packages (from pandas) (2.8.2)\n",
            "Requirement already satisfied: pyparsing>=2.2.1 in c:\\python\\python39\\lib\\site-packages (from matplotlib) (2.4.7)\n",
            "Requirement already satisfied: pillow>=6.2.0 in c:\\python\\python39\\lib\\site-packages (from matplotlib) (8.4.0)\n",
            "Requirement already satisfied: cycler>=0.10 in c:\\python\\python39\\lib\\site-packages (from matplotlib) (0.11.0)\n",
            "Requirement already satisfied: kiwisolver>=1.0.1 in c:\\python\\python39\\lib\\site-packages (from matplotlib) (1.3.2)\n",
            "Requirement already satisfied: fonttools>=4.22.0 in c:\\python\\python39\\lib\\site-packages (from matplotlib) (4.28.5)\n",
            "Requirement already satisfied: scikit-learn in c:\\python\\python39\\lib\\site-packages (from sklearn) (1.0.2)\n",
            "Requirement already satisfied: wheel<1.0,>=0.23.0 in c:\\users\\m-si\\appdata\\roaming\\python\\python39\\site-packages (from astunparse>=1.6.0->tensorflow) (0.37.1)\n",
            "Requirement already satisfied: tensorboard-data-server<0.7.0,>=0.6.0 in c:\\users\\m-si\\appdata\\roaming\\python\\python39\\site-packages (from tensorboard<2.10,>=2.9->tensorflow) (0.6.1)\n",
            "Requirement already satisfied: tensorboard-plugin-wit>=1.6.0 in c:\\users\\m-si\\appdata\\roaming\\python\\python39\\site-packages (from tensorboard<2.10,>=2.9->tensorflow) (1.8.1)\n",
            "Requirement already satisfied: google-auth-oauthlib<0.5,>=0.4.1 in c:\\users\\m-si\\appdata\\roaming\\python\\python39\\site-packages (from tensorboard<2.10,>=2.9->tensorflow) (0.4.6)\n",
            "Requirement already satisfied: google-auth<3,>=1.6.3 in c:\\users\\m-si\\appdata\\roaming\\python\\python39\\site-packages (from tensorboard<2.10,>=2.9->tensorflow) (2.9.0)\n",
            "Requirement already satisfied: werkzeug>=1.0.1 in c:\\users\\m-si\\appdata\\roaming\\python\\python39\\site-packages (from tensorboard<2.10,>=2.9->tensorflow) (2.1.2)\n",
            "Requirement already satisfied: requests<3,>=2.21.0 in c:\\python\\python39\\lib\\site-packages (from tensorboard<2.10,>=2.9->tensorflow) (2.25.1)\n",
            "Requirement already satisfied: markdown>=2.6.8 in c:\\users\\m-si\\appdata\\roaming\\python\\python39\\site-packages (from tensorboard<2.10,>=2.9->tensorflow) (3.3.7)\n",
            "Requirement already satisfied: joblib>=0.11 in c:\\python\\python39\\lib\\site-packages (from scikit-learn->sklearn) (1.1.0)\n",
            "Requirement already satisfied: scipy>=1.1.0 in c:\\python\\python39\\lib\\site-packages (from scikit-learn->sklearn) (1.7.3)\n",
            "Requirement already satisfied: threadpoolctl>=2.0.0 in c:\\python\\python39\\lib\\site-packages (from scikit-learn->sklearn) (3.0.0)\n",
            "Requirement already satisfied: cachetools<6.0,>=2.0.0 in c:\\users\\m-si\\appdata\\roaming\\python\\python39\\site-packages (from google-auth<3,>=1.6.3->tensorboard<2.10,>=2.9->tensorflow) (5.2.0)\n",
            "Requirement already satisfied: rsa<5,>=3.1.4 in c:\\users\\m-si\\appdata\\roaming\\python\\python39\\site-packages (from google-auth<3,>=1.6.3->tensorboard<2.10,>=2.9->tensorflow) (4.8)\n",
            "Requirement already satisfied: pyasn1-modules>=0.2.1 in c:\\users\\m-si\\appdata\\roaming\\python\\python39\\site-packages (from google-auth<3,>=1.6.3->tensorboard<2.10,>=2.9->tensorflow) (0.2.8)\n",
            "Requirement already satisfied: requests-oauthlib>=0.7.0 in c:\\users\\m-si\\appdata\\roaming\\python\\python39\\site-packages (from google-auth-oauthlib<0.5,>=0.4.1->tensorboard<2.10,>=2.9->tensorflow) (1.3.1)\n",
            "Requirement already satisfied: importlib-metadata>=4.4 in c:\\users\\m-si\\appdata\\roaming\\python\\python39\\site-packages (from markdown>=2.6.8->tensorboard<2.10,>=2.9->tensorflow) (4.12.0)\n",
            "Requirement already satisfied: idna<3,>=2.5 in c:\\python\\python39\\lib\\site-packages (from requests<3,>=2.21.0->tensorboard<2.10,>=2.9->tensorflow) (2.10)\n",
            "Requirement already satisfied: urllib3<1.27,>=1.21.1 in c:\\python\\python39\\lib\\site-packages (from requests<3,>=2.21.0->tensorboard<2.10,>=2.9->tensorflow) (1.26.7)\n",
            "Requirement already satisfied: chardet<5,>=3.0.2 in c:\\python\\python39\\lib\\site-packages (from requests<3,>=2.21.0->tensorboard<2.10,>=2.9->tensorflow) (4.0.0)\n",
            "Requirement already satisfied: certifi>=2017.4.17 in c:\\python\\python39\\lib\\site-packages (from requests<3,>=2.21.0->tensorboard<2.10,>=2.9->tensorflow) (2021.10.8)\n",
            "Requirement already satisfied: zipp>=0.5 in c:\\users\\m-si\\appdata\\roaming\\python\\python39\\site-packages (from importlib-metadata>=4.4->markdown>=2.6.8->tensorboard<2.10,>=2.9->tensorflow) (3.8.0)\n",
            "Requirement already satisfied: pyasn1<0.5.0,>=0.4.6 in c:\\users\\m-si\\appdata\\roaming\\python\\python39\\site-packages (from pyasn1-modules>=0.2.1->google-auth<3,>=1.6.3->tensorboard<2.10,>=2.9->tensorflow) (0.4.8)\n",
            "Requirement already satisfied: oauthlib>=3.0.0 in c:\\users\\m-si\\appdata\\roaming\\python\\python39\\site-packages (from requests-oauthlib>=0.7.0->google-auth-oauthlib<0.5,>=0.4.1->tensorboard<2.10,>=2.9->tensorflow) (3.2.0)\n",
            "\n",
            "[notice] A new release of pip available: 22.1.2 -> 22.2.1\n",
            "[notice] To update, run: python.exe -m pip install --upgrade pip\n"
          ]
        }
      ],
      "source": [
        "!pip install tensorflow tensorflow-gpu pandas matplotlib sklearn"
      ]
    },
    {
      "cell_type": "code",
      "execution_count": 3,
      "metadata": {
        "id": "zH2nUQxmdOgH",
        "tags": []
      },
      "outputs": [],
      "source": [
        "import pandas as pd\n",
        "import tensorflow as tf\n",
        "import numpy as np"
      ]
    },
    {
      "cell_type": "code",
      "execution_count": 4,
      "metadata": {
        "id": "B0YEQLOOdOgI",
        "tags": []
      },
      "outputs": [],
      "source": [
        "df = pd.read_csv('train.csv')"
      ]
    },
    {
      "cell_type": "code",
      "execution_count": 5,
      "metadata": {
        "colab": {
          "base_uri": "https://localhost:8080/",
          "height": 206
        },
        "id": "JRtMGfzydOgJ",
        "outputId": "de2ff706-b0b8-4d1f-fbf4-3d5502c10e71",
        "tags": []
      },
      "outputs": [
        {
          "data": {
            "text/html": [
              "<div>\n",
              "<style scoped>\n",
              "    .dataframe tbody tr th:only-of-type {\n",
              "        vertical-align: middle;\n",
              "    }\n",
              "\n",
              "    .dataframe tbody tr th {\n",
              "        vertical-align: top;\n",
              "    }\n",
              "\n",
              "    .dataframe thead th {\n",
              "        text-align: right;\n",
              "    }\n",
              "</style>\n",
              "<table border=\"1\" class=\"dataframe\">\n",
              "  <thead>\n",
              "    <tr style=\"text-align: right;\">\n",
              "      <th></th>\n",
              "      <th>original_text</th>\n",
              "      <th>source</th>\n",
              "      <th>pornografi</th>\n",
              "      <th>sara</th>\n",
              "      <th>radikalisme</th>\n",
              "      <th>pencemaran_nama_baik</th>\n",
              "    </tr>\n",
              "  </thead>\n",
              "  <tbody>\n",
              "    <tr>\n",
              "      <th>6990</th>\n",
              "      <td>Mas. Sebenarnya aku gamau bully mas tp kek nya...</td>\n",
              "      <td>instagram</td>\n",
              "      <td>0</td>\n",
              "      <td>0</td>\n",
              "      <td>0</td>\n",
              "      <td>0</td>\n",
              "    </tr>\n",
              "    <tr>\n",
              "      <th>6991</th>\n",
              "      <td>Kdang ngaku nicky minaj, kdang beyonce, kdang ...</td>\n",
              "      <td>instagram</td>\n",
              "      <td>0</td>\n",
              "      <td>0</td>\n",
              "      <td>0</td>\n",
              "      <td>0</td>\n",
              "    </tr>\n",
              "    <tr>\n",
              "      <th>6992</th>\n",
              "      <td>Time kemas sesuatu tadi, terfikir jugak botol ...</td>\n",
              "      <td>twitter</td>\n",
              "      <td>0</td>\n",
              "      <td>0</td>\n",
              "      <td>1</td>\n",
              "      <td>0</td>\n",
              "    </tr>\n",
              "    <tr>\n",
              "      <th>6993</th>\n",
              "      <td>@BasherRL heh kontol, jan sok pemes lu di rp, ...</td>\n",
              "      <td>twitter</td>\n",
              "      <td>1</td>\n",
              "      <td>0</td>\n",
              "      <td>0</td>\n",
              "      <td>1</td>\n",
              "    </tr>\n",
              "    <tr>\n",
              "      <th>6994</th>\n",
              "      <td>Maen bacok\"an yuk\"QueenMutiaa: Kalau kamu suka...</td>\n",
              "      <td>twitter</td>\n",
              "      <td>0</td>\n",
              "      <td>1</td>\n",
              "      <td>1</td>\n",
              "      <td>1</td>\n",
              "    </tr>\n",
              "  </tbody>\n",
              "</table>\n",
              "</div>"
            ],
            "text/plain": [
              "                                          original_text     source  \\\n",
              "6990  Mas. Sebenarnya aku gamau bully mas tp kek nya...  instagram   \n",
              "6991  Kdang ngaku nicky minaj, kdang beyonce, kdang ...  instagram   \n",
              "6992  Time kemas sesuatu tadi, terfikir jugak botol ...    twitter   \n",
              "6993  @BasherRL heh kontol, jan sok pemes lu di rp, ...    twitter   \n",
              "6994  Maen bacok\"an yuk\"QueenMutiaa: Kalau kamu suka...    twitter   \n",
              "\n",
              "      pornografi  sara  radikalisme  pencemaran_nama_baik  \n",
              "6990           0     0            0                     0  \n",
              "6991           0     0            0                     0  \n",
              "6992           0     0            1                     0  \n",
              "6993           1     0            0                     1  \n",
              "6994           0     1            1                     1  "
            ]
          },
          "execution_count": 5,
          "metadata": {},
          "output_type": "execute_result"
        }
      ],
      "source": [
        "df.tail()"
      ]
    },
    {
      "cell_type": "markdown",
      "metadata": {
        "id": "vozKVjPYdOgJ"
      },
      "source": [
        "# 1. Preprocess"
      ]
    },
    {
      "cell_type": "code",
      "execution_count": 6,
      "metadata": {
        "id": "ULglRBNNdOgK",
        "tags": []
      },
      "outputs": [],
      "source": [
        "from tensorflow.keras.layers import TextVectorization"
      ]
    },
    {
      "cell_type": "code",
      "execution_count": 7,
      "metadata": {
        "id": "lJDQj8KXdOgL",
        "tags": []
      },
      "outputs": [],
      "source": [
        "X = df['original_text'] # kolom original text\n",
        "y = df[df.columns[2:]].values # kolom output"
      ]
    },
    {
      "cell_type": "code",
      "execution_count": 8,
      "metadata": {
        "id": "gf9i0IzHRKZg"
      },
      "outputs": [],
      "source": [
        "def remove_newline(text):\n",
        "    return re.sub('\\n', ' ',text)\n",
        "\n",
        "def remove_kaskus_formatting(text):\n",
        "    text = re.sub('\\[', ' [', text)\n",
        "    text = re.sub('\\]', '] ', text)\n",
        "    text = re.sub('\\[quote[^ ]*\\].*?\\[\\/quote\\]', ' ', text)\n",
        "    text = re.sub('\\[[^ ]*\\]', ' ', text)\n",
        "    text = re.sub('&quot;', ' ', text)\n",
        "    return text\n",
        "\n",
        "def remove_url(text):\n",
        "    return re.sub('((www\\.[^\\s]+)|(https?://[^\\s]+)|(http?://[^\\s]+))', '', text)\n",
        "\n",
        "def remove_excessive_whitespace(text):\n",
        "    return re.sub('  +', ' ', text)\n",
        "\n",
        "from nltk.tokenize import WordPunctTokenizer\n",
        "\n",
        "import re\n",
        "\n",
        "def tokenize_text(text, punct=False):\n",
        "    text = WordPunctTokenizer().tokenize(text)\n",
        "    text = [word for word in text if punct or word.isalnum()]\n",
        "    text = ' '.join(text)\n",
        "    text = text.strip()\n",
        "    return text\n",
        "\n",
        "def remove_non_alphabet(text):\n",
        "    output = re.sub('[^a-zA-Z ]+', '', text)\n",
        "    return output\n",
        "\n",
        "def remove_twitter_ig_formatting(text):\n",
        "    text = re.sub(r'@[A-Za-z0-9]+', '', text)\n",
        "    text = re.sub(r'\\brt\\b', '', text)\n",
        "    return text\n",
        "\n",
        "import itertools\n",
        "\n",
        "slang_words = pd.read_csv('slangword.csv')\n",
        "slang_dict = dict(zip(slang_words['original'],slang_words['translated']))\n",
        "\n",
        "def transform_slang_words(text):\n",
        "    word_list = text.split()\n",
        "    word_list_len = len(word_list)\n",
        "    transformed_word_list = []\n",
        "    i = 0\n",
        "    while i < word_list_len:\n",
        "        if (i + 1) < word_list_len:\n",
        "            two_words = ' '.join(word_list[i:i+2])\n",
        "            if two_words in slang_dict:\n",
        "                transformed_word_list.append(slang_dict[two_words])\n",
        "                i += 2\n",
        "                continue\n",
        "        transformed_word_list.append(slang_dict.get(word_list[i], word_list[i]))\n",
        "        i += 1\n",
        "    return ' '.join(transformed_word_list)\n",
        "\n",
        "def remove_repeating_characters(text):\n",
        "    return ''.join(''.join(s)[:1] for _, s in itertools.groupby(text))"
      ]
    },
    {
      "cell_type": "code",
      "execution_count": 9,
      "metadata": {
        "id": "c0kD6BVqSIsD"
      },
      "outputs": [],
      "source": [
        "def preprocess_text(text):\n",
        "    transformed_text = text.lower()\n",
        "    transformed_text = remove_newline(text)\n",
        "    transformed_text = remove_url(transformed_text)\n",
        "    transformed_text = remove_twitter_ig_formatting(transformed_text)\n",
        "    transformed_text = remove_kaskus_formatting(transformed_text)\n",
        "    transformed_text = transformed_text.lower()\n",
        "    transformed_text = tokenize_text(transformed_text)\n",
        "    transformed_text = transform_slang_words(transformed_text)\n",
        "    transformed_text = remove_repeating_characters(transformed_text)\n",
        "    transformed_text = transform_slang_words(transformed_text)\n",
        "    transformed_text = remove_non_alphabet(transformed_text)\n",
        "    transformed_text = remove_excessive_whitespace(transformed_text)\n",
        "    transformed_text = transformed_text.lower().strip()\n",
        "    return transformed_text"
      ]
    },
    {
      "cell_type": "code",
      "execution_count": 10,
      "metadata": {
        "colab": {
          "base_uri": "https://localhost:8080/"
        },
        "id": "5nzRL6wYSXNG",
        "outputId": "0005309b-ce67-4cdd-c6ca-d04b382b837d"
      },
      "outputs": [],
      "source": [
        "X = X.apply(preprocess_text)\n",
        "# len(X)"
      ]
    },
    {
      "cell_type": "code",
      "execution_count": 11,
      "metadata": {
        "id": "POuFnvaxdOgL",
        "tags": []
      },
      "outputs": [],
      "source": [
        "# membatasi jumlah kata yang ditokenize\n",
        "MAX_FEATURES = 200000 # number of words in the vocab"
      ]
    },
    {
      "cell_type": "code",
      "execution_count": 12,
      "metadata": {
        "id": "C1ESKVVmdOgM",
        "tags": []
      },
      "outputs": [],
      "source": [
        "# output_sequence_length : membatasi panjang kata di kalimat\n",
        "\n",
        "vectorizer = TextVectorization(max_tokens=MAX_FEATURES,\n",
        "                               output_sequence_length=1800,\n",
        "                               output_mode='int')"
      ]
    },
    {
      "cell_type": "code",
      "execution_count": 13,
      "metadata": {
        "id": "geLixxX1dOgM",
        "tags": []
      },
      "outputs": [],
      "source": [
        "vectorizer.adapt(X.values)"
      ]
    },
    {
      "cell_type": "code",
      "execution_count": 14,
      "metadata": {
        "id": "Lkp0zc-odOgN",
        "tags": []
      },
      "outputs": [],
      "source": [
        "vectorized_text = vectorizer(X.values)"
      ]
    },
    {
      "cell_type": "code",
      "execution_count": 15,
      "metadata": {
        "id": "GFNjtObOdOgN",
        "tags": []
      },
      "outputs": [],
      "source": [
        "# menyiapkan dataset untuk dipakai\n",
        "dataset = tf.data.Dataset.from_tensor_slices((vectorized_text, y))\n",
        "dataset = dataset.cache()\n",
        "dataset = dataset.shuffle(160000)\n",
        "dataset = dataset.batch(16) \n",
        "dataset = dataset.prefetch(8) "
      ]
    },
    {
      "cell_type": "code",
      "execution_count": 16,
      "metadata": {
        "id": "9bdJxVQRdOgN",
        "tags": []
      },
      "outputs": [],
      "source": [
        "train = dataset.take(int(len(dataset)*0.7)) # 70% dari dataset dijadikan train dataset\n",
        "val = dataset.skip(int(len(dataset)*.7)).take(int(len(dataset)*.2)) # 20% jadi validation dataset\n",
        "test = dataset.skip(int(len(dataset)*.9)).take(int(len(dataset)*.1)) # 10% jadi dataset"
      ]
    },
    {
      "cell_type": "markdown",
      "metadata": {
        "id": "2UmeEP9GdOgO"
      },
      "source": [
        "# 2. Create Sequential Model"
      ]
    },
    {
      "cell_type": "code",
      "execution_count": 17,
      "metadata": {
        "id": "vzYO-AiQdOgO",
        "tags": []
      },
      "outputs": [],
      "source": [
        "from tensorflow.keras.models import Sequential\n",
        "from tensorflow.keras.layers import LSTM, Dropout, Bidirectional, Dense, Embedding"
      ]
    },
    {
      "cell_type": "code",
      "execution_count": 18,
      "metadata": {
        "id": "kbzihmqldOgO",
        "tags": []
      },
      "outputs": [],
      "source": [
        "model = Sequential()\n",
        "# Create the embedding layer \n",
        "model.add(Embedding(MAX_FEATURES+1, 32))\n",
        "# Bidirectional LSTM Layer\n",
        "model.add(Bidirectional(LSTM(32, activation='tanh')))\n",
        "# Feature extractor Fully connected layers\n",
        "model.add(Dense(64, activation='relu'))\n",
        "model.add(Dense(128, activation='relu'))\n",
        "model.add(Dense(64, activation='relu'))\n",
        "# Final layer \n",
        "model.add(Dense(4, activation='sigmoid'))"
      ]
    },
    {
      "cell_type": "code",
      "execution_count": 19,
      "metadata": {
        "id": "ECAmrrvrdOgP",
        "tags": []
      },
      "outputs": [],
      "source": [
        "model.compile(loss='BinaryCrossentropy', optimizer='Adam')"
      ]
    },
    {
      "cell_type": "code",
      "execution_count": 20,
      "metadata": {
        "colab": {
          "base_uri": "https://localhost:8080/"
        },
        "id": "e9ez906_dOgP",
        "outputId": "ca6059d6-1cec-47e0-e0a7-e75456cb8576",
        "tags": []
      },
      "outputs": [
        {
          "name": "stdout",
          "output_type": "stream",
          "text": [
            "Model: \"sequential\"\n",
            "_________________________________________________________________\n",
            " Layer (type)                Output Shape              Param #   \n",
            "=================================================================\n",
            " embedding (Embedding)       (None, None, 32)          6400032   \n",
            "                                                                 \n",
            " bidirectional (Bidirectiona  (None, 64)               16640     \n",
            " l)                                                              \n",
            "                                                                 \n",
            " dense (Dense)               (None, 64)                4160      \n",
            "                                                                 \n",
            " dense_1 (Dense)             (None, 128)               8320      \n",
            "                                                                 \n",
            " dense_2 (Dense)             (None, 64)                8256      \n",
            "                                                                 \n",
            " dense_3 (Dense)             (None, 4)                 260       \n",
            "                                                                 \n",
            "=================================================================\n",
            "Total params: 6,437,668\n",
            "Trainable params: 6,437,668\n",
            "Non-trainable params: 0\n",
            "_________________________________________________________________\n"
          ]
        }
      ],
      "source": [
        "model.summary()"
      ]
    },
    {
      "cell_type": "code",
      "execution_count": 21,
      "metadata": {
        "colab": {
          "base_uri": "https://localhost:8080/",
          "height": 359
        },
        "id": "qs47sxNIdOgP",
        "outputId": "df611a4c-0f6e-4537-cd5b-1130be1b0f77",
        "tags": []
      },
      "outputs": [
        {
          "name": "stdout",
          "output_type": "stream",
          "text": [
            "Epoch 1/5\n",
            "306/306 [==============================] - 420s 1s/step - loss: 0.4492 - val_loss: 0.3350\n",
            "Epoch 2/5\n",
            "306/306 [==============================] - 448s 1s/step - loss: 0.2947 - val_loss: 0.2330\n",
            "Epoch 3/5\n",
            "306/306 [==============================] - 321s 1s/step - loss: 0.2173 - val_loss: 0.1739\n",
            "Epoch 4/5\n",
            "306/306 [==============================] - 267s 873ms/step - loss: 0.1581 - val_loss: 0.1142\n",
            "Epoch 5/5\n",
            "306/306 [==============================] - 373s 1s/step - loss: 0.1263 - val_loss: 0.1036\n"
          ]
        }
      ],
      "source": [
        "history = model.fit(train, epochs=5, validation_data=val)"
      ]
    },
    {
      "cell_type": "code",
      "execution_count": 36,
      "metadata": {
        "id": "-6U3EUGZdOgP",
        "tags": []
      },
      "outputs": [],
      "source": [
        "from matplotlib import pyplot as plt"
      ]
    },
    {
      "cell_type": "code",
      "execution_count": 37,
      "metadata": {
        "colab": {
          "base_uri": "https://localhost:8080/",
          "height": 283
        },
        "collapsed": true,
        "id": "CoYpjzX8dOgQ",
        "jupyter": {
          "outputs_hidden": true
        },
        "outputId": "2e93891e-1714-425b-9a96-e13d37399a4d",
        "tags": []
      },
      "outputs": [
        {
          "data": {
            "text/plain": [
              "<Figure size 576x360 with 0 Axes>"
            ]
          },
          "metadata": {},
          "output_type": "display_data"
        },
        {
          "data": {
            "image/png": "[encoded data removed]",
            "text/plain": [
              "<Figure size 432x288 with 1 Axes>"
            ]
          },
          "metadata": {
            "needs_background": "light"
          },
          "output_type": "display_data"
        }
      ],
      "source": [
        "plt.figure(figsize=(8,5))\n",
        "pd.DataFrame(history.history).plot()\n",
        "plt.show()"
      ]
    },
    {
      "cell_type": "markdown",
      "metadata": {
        "id": "aoBNeH3jdOgQ"
      },
      "source": [
        "# 3. Make Predictions"
      ]
    },
    {
      "cell_type": "code",
      "execution_count": 110,
      "metadata": {
        "id": "4GqMPeD_dOgQ",
        "tags": []
      },
      "outputs": [],
      "source": [
        "\n",
        "# string = 'Bego kalau masih berfikir ,harus angkat senjata untuk dirikan #khilafah !!'\n",
        "string =  \"heh kontol, jan sok pemes lu di rp, muka kek memek, org tua lu kek monyet, agama lu aje agama kontol\"\n",
        "# string = 'anak monyet tolol'\n",
        "\n",
        "input_text = vectorizer(string)"
      ]
    },
    {
      "cell_type": "code",
      "execution_count": 111,
      "metadata": {
        "id": "ZWze0ifLdOgQ",
        "tags": []
      },
      "outputs": [
        {
          "name": "stdout",
          "output_type": "stream",
          "text": [
            "1/1 [==============================] - 0s 86ms/step\n"
          ]
        }
      ],
      "source": [
        "res = model.predict(np.array([input_text]))"
      ]
    },
    {
      "cell_type": "code",
      "execution_count": 113,
      "metadata": {
        "colab": {
          "base_uri": "https://localhost:8080/"
        },
        "id": "PSQS8AncYMFB",
        "outputId": "d81ed2a7-cea3-471f-a813-e82c5928030a"
      },
      "outputs": [
        {
          "data": {
            "text/plain": [
              "array([[9.9962050e-01, 2.3377757e-03, 1.6778786e-05, 9.8415494e-01]],\n",
              "      dtype=float32)"
            ]
          },
          "execution_count": 113,
          "metadata": {},
          "output_type": "execute_result"
        }
      ],
      "source": [
        "res #hasil model yg telah melewati embbedding, lstm, hidden layer, terus in outputnya (ada  4)"
      ]
    },
    {
      "cell_type": "code",
      "execution_count": 115,
      "metadata": {},
      "outputs": [
        {
          "data": {
            "text/plain": [
              "1.98613"
            ]
          },
          "execution_count": 115,
          "metadata": {},
          "output_type": "execute_result"
        }
      ],
      "source": [
        "np.sum(res)"
      ]
    },
    {
      "cell_type": "code",
      "execution_count": 114,
      "metadata": {},
      "outputs": [
        {
          "data": {
            "text/plain": [
              "array([[1, 0, 0, 1]])"
            ]
          },
          "execution_count": 114,
          "metadata": {},
          "output_type": "execute_result"
        }
      ],
      "source": [
        "(res > 0.5).astype(int)"
      ]
    },
    {
      "cell_type": "code",
      "execution_count": 104,
      "metadata": {
        "colab": {
          "base_uri": "https://localhost:8080/"
        },
        "id": "9VbF_180dOgQ",
        "jupyter": {
          "source_hidden": true
        },
        "outputId": "55201135-e1c4-4feb-dc07-75f05b3258a6"
      },
      "outputs": [
        {
          "name": "stdout",
          "output_type": "stream",
          "text": [
            "1/1 [==============================] - 0s 122ms/step\n"
          ]
        },
        {
          "data": {
            "text/plain": [
              "'pornografi: False, sara: False, radikalisme: False, pencemaran_nama_baik: True, '"
            ]
          },
          "execution_count": 104,
          "metadata": {},
          "output_type": "execute_result"
        }
      ],
      "source": [
        "def score_comment(comment):\n",
        "    vectorized_comment = vectorizer([comment])\n",
        "    results = model.predict(vectorized_comment)\n",
        "    \n",
        "    text = ''\n",
        "    for idx, col in enumerate(df.columns[2:]):\n",
        "        text +='{}: {}, '.format(col, results[0][idx]>0.5)\n",
        "    \n",
        "    return text\n",
        "\n",
        "score_comment(string)"
      ]
    },
    {
      "cell_type": "code",
      "execution_count": 43,
      "metadata": {
        "colab": {
          "base_uri": "https://localhost:8080/"
        },
        "id": "hHMnm-GodOgR",
        "outputId": "16d87ccd-6908-4122-eea0-d3aa91997292"
      },
      "outputs": [
        {
          "data": {
            "text/plain": [
              "(1, 4)"
            ]
          },
          "execution_count": 43,
          "metadata": {},
          "output_type": "execute_result"
        }
      ],
      "source": [
        "res.shape"
      ]
    },
    {
      "cell_type": "code",
      "execution_count": 105,
      "metadata": {},
      "outputs": [],
      "source": [
        "batch_X, batch_y = test.as_numpy_iterator().next()"
      ]
    },
    {
      "cell_type": "code",
      "execution_count": 107,
      "metadata": {},
      "outputs": [
        {
          "name": "stdout",
          "output_type": "stream",
          "text": [
            "1/1 [==============================] - 0s 157ms/step\n"
          ]
        },
        {
          "data": {
            "text/plain": [
              "array([[0, 0, 0, 0],\n",
              "       [0, 1, 1, 1],\n",
              "       [0, 0, 1, 0],\n",
              "       [0, 0, 0, 0],\n",
              "       [0, 0, 0, 1],\n",
              "       [0, 0, 1, 0],\n",
              "       [0, 0, 0, 0],\n",
              "       [0, 0, 0, 0],\n",
              "       [0, 1, 0, 1],\n",
              "       [0, 0, 0, 1],\n",
              "       [0, 0, 0, 0],\n",
              "       [1, 0, 0, 0],\n",
              "       [0, 1, 1, 1],\n",
              "       [1, 0, 0, 0],\n",
              "       [1, 0, 0, 1],\n",
              "       [0, 0, 0, 0]])"
            ]
          },
          "execution_count": 107,
          "metadata": {},
          "output_type": "execute_result"
        }
      ],
      "source": [
        "(model.predict(batch_X) > 0.5).astype(int)"
      ]
    },
    {
      "cell_type": "markdown",
      "metadata": {
        "id": "jzMBvwSkdOgR"
      },
      "source": [
        "# 4. Evaluate Model"
      ]
    },
    {
      "cell_type": "code",
      "execution_count": 32,
      "metadata": {
        "id": "oDD9_lSOdOgR",
        "tags": []
      },
      "outputs": [],
      "source": [
        "from tensorflow.keras.metrics import Precision, Recall, CategoricalAccuracy\n",
        "# untuk mengevaluasi model yang telah kita buat, kita menghitung presisi,recall, akurasi \n",
        "# categorical accuracy : (sama seperti akurasi, namun digunakan untuk one hot labels (label nya lebih dari satu, \n",
        "# misalnya berbentuk array) ) keakuratan setiap kolom, berisi 0 atau 1"
      ]
    },
    {
      "cell_type": "code",
      "execution_count": 33,
      "metadata": {
        "id": "dceFZzSCdOgR",
        "tags": []
      },
      "outputs": [],
      "source": [
        "pre = Precision()\n",
        "re = Recall()\n",
        "acc = CategoricalAccuracy()"
      ]
    },
    {
      "cell_type": "code",
      "execution_count": 34,
      "metadata": {
        "id": "RrxSguREdOgS",
        "tags": []
      },
      "outputs": [
        {
          "name": "stdout",
          "output_type": "stream",
          "text": [
            "1/1 [==============================] - 0s 303ms/step\n",
            "1/1 [==============================] - 0s 320ms/step\n",
            "1/1 [==============================] - 0s 311ms/step\n",
            "1/1 [==============================] - 0s 317ms/step\n",
            "1/1 [==============================] - 0s 323ms/step\n",
            "1/1 [==============================] - 0s 314ms/step\n",
            "1/1 [==============================] - 0s 310ms/step\n",
            "1/1 [==============================] - 0s 315ms/step\n",
            "1/1 [==============================] - 0s 316ms/step\n",
            "1/1 [==============================] - 0s 312ms/step\n",
            "1/1 [==============================] - 0s 316ms/step\n",
            "1/1 [==============================] - 0s 309ms/step\n",
            "1/1 [==============================] - 0s 311ms/step\n",
            "1/1 [==============================] - 0s 323ms/step\n",
            "1/1 [==============================] - 0s 314ms/step\n",
            "1/1 [==============================] - 0s 317ms/step\n",
            "1/1 [==============================] - 0s 316ms/step\n",
            "1/1 [==============================] - 0s 315ms/step\n",
            "1/1 [==============================] - 0s 315ms/step\n",
            "1/1 [==============================] - 0s 312ms/step\n",
            "1/1 [==============================] - 0s 244ms/step\n",
            "1/1 [==============================] - 0s 179ms/step\n",
            "1/1 [==============================] - 0s 307ms/step\n",
            "1/1 [==============================] - 0s 243ms/step\n",
            "1/1 [==============================] - 0s 322ms/step\n",
            "1/1 [==============================] - 0s 323ms/step\n",
            "1/1 [==============================] - 0s 313ms/step\n",
            "1/1 [==============================] - 0s 319ms/step\n",
            "1/1 [==============================] - 0s 317ms/step\n",
            "1/1 [==============================] - 0s 325ms/step\n",
            "1/1 [==============================] - 0s 308ms/step\n",
            "1/1 [==============================] - 0s 308ms/step\n",
            "1/1 [==============================] - 0s 318ms/step\n",
            "1/1 [==============================] - 0s 319ms/step\n",
            "1/1 [==============================] - 0s 324ms/step\n",
            "1/1 [==============================] - 0s 322ms/step\n",
            "1/1 [==============================] - 0s 313ms/step\n",
            "1/1 [==============================] - 0s 312ms/step\n",
            "1/1 [==============================] - 0s 321ms/step\n",
            "1/1 [==============================] - 0s 321ms/step\n",
            "1/1 [==============================] - 0s 320ms/step\n",
            "1/1 [==============================] - 0s 311ms/step\n",
            "1/1 [==============================] - 0s 317ms/step\n"
          ]
        }
      ],
      "source": [
        "for batch in test.as_numpy_iterator(): \n",
        "    # Unpack the batch \n",
        "    X_true, y_true = batch\n",
        "    # Make a prediction \n",
        "    yhat = model.predict(X_true)\n",
        "    \n",
        "    # Flatten the predictions\n",
        "    y_true = y_true.flatten()\n",
        "    yhat = yhat.flatten()\n",
        "    \n",
        "    pre.update_state(y_true, yhat)\n",
        "    re.update_state(y_true, yhat)\n",
        "    acc.update_state(y_true, yhat)"
      ]
    },
    {
      "cell_type": "code",
      "execution_count": 35,
      "metadata": {
        "colab": {
          "base_uri": "https://localhost:8080/"
        },
        "id": "2CWDhuW5dOgS",
        "outputId": "f6db86c2-cf9e-477f-af8a-31add81e7956",
        "tags": []
      },
      "outputs": [
        {
          "name": "stdout",
          "output_type": "stream",
          "text": [
            "Precision: 0.9358108043670654, Recall:0.9111841917037964, Accuracy:0.023255813866853714\n"
          ]
        }
      ],
      "source": [
        "print(f'Precision: {pre.result().numpy()}, Recall:{re.result().numpy()}, Accuracy:{acc.result().numpy()}')"
      ]
    }
  ],
  "metadata": {
    "colab": {
      "name": "Toxicity.ipynb",
      "provenance": []
    },
    "gpuClass": "standard",
    "kernelspec": {
      "display_name": "Python 3.9.1 64-bit",
      "language": "python",
      "name": "python3"
    },
    "language_info": {
      "codemirror_mode": {
        "name": "ipython",
        "version": 3
      },
      "file_extension": ".py",
      "mimetype": "text/x-python",
      "name": "python",
      "nbconvert_exporter": "python",
      "pygments_lexer": "ipython3",
      "version": "3.9.1"
    },
    "vscode": {
      "interpreter": {
        "hash": "25034407fed5d681614dac11a1c0537e8cb49e3a8883c071303eea01322943d9"
      }
    }
  },
  "nbformat": 4,
  "nbformat_minor": 0
}
